{
 "cells": [
  {
   "cell_type": "code",
   "execution_count": 1,
   "id": "644ff1ab",
   "metadata": {},
   "outputs": [
    {
     "name": "stdout",
     "output_type": "stream",
     "text": [
      "I will be a data scientist\n"
     ]
    }
   ],
   "source": [
    "# Here execute the following sentence - string \"I will be a data scientist\" by using print() function.\n",
    "print( \"I will be a data scientist\" )"
   ]
  },
  {
   "cell_type": "code",
   "execution_count": 2,
   "id": "ee81b7b9",
   "metadata": {},
   "outputs": [
    {
     "name": "stdout",
     "output_type": "stream",
     "text": [
      "22\n"
     ]
    }
   ],
   "source": [
    "# Assign a and b variables respectively with 10 and 12, then print sum of these two variables.\n",
    "a = 10\n",
    "b = 12\n",
    "print(a + b)"
   ]
  },
  {
   "cell_type": "code",
   "execution_count": 3,
   "id": "e1eefe1e",
   "metadata": {},
   "outputs": [
    {
     "name": "stdout",
     "output_type": "stream",
     "text": [
      "a is less than b\n"
     ]
    }
   ],
   "source": [
    "# So we assigned a and b in the above cell. Let's write a code that print \n",
    "# \"a is greater b\" or \"a is less than b\" \n",
    "# by using Python's conditional statement (if - else). Please see training_1.\n",
    "if a > b:\n",
    "    print(\"a is greater than b\")\n",
    "else:\n",
    "    print(\"a is less than b\")"
   ]
  },
  {
   "cell_type": "code",
   "execution_count": 4,
   "id": "74934ce9",
   "metadata": {},
   "outputs": [
    {
     "name": "stdout",
     "output_type": "stream",
     "text": [
      "Yield was better this year\n"
     ]
    }
   ],
   "source": [
    "# We built a function - canola_convertion () to convert pounds to bushel for canola. \n",
    "# We added if and else conditional statement to this function\n",
    "# to print \"Yield was better this year\" in case Canola yield per acre was greater than 45 (Please see Training_1 file). \n",
    "# But now, we will use wheat instead of canola. Please give an example of 2400 pounds and convert it to bushels and\n",
    "# print if the year was good or bad. \n",
    "\n",
    "wheat_weight = 2400 # yield per acre in pounds\n",
    "unit = 50 # 1 bushel 50 pounds\n",
    "bushel_per_acre = wheat_weight/unit \n",
    "if bushel_per_acre > 45:\n",
    "    print('Yield was better this year')\n",
    "else:\n",
    "    print('yield was not good this year')\n"
   ]
  },
  {
   "cell_type": "code",
   "execution_count": 5,
   "id": "74725bb8",
   "metadata": {},
   "outputs": [
    {
     "name": "stdout",
     "output_type": "stream",
     "text": [
      "[2, 4, 6, 8, 10, 'apple']\n"
     ]
    }
   ],
   "source": [
    "# Assign list that contains even numbers from 1 to 10. Then add apple word to the list. \n",
    "# It will look like 'apple' in the list. \n",
    "A_list = [2, 4, 6, 8, 10, 'apple']\n",
    "print(A_list)"
   ]
  },
  {
   "cell_type": "code",
   "execution_count": 13,
   "id": "22a5cb41",
   "metadata": {},
   "outputs": [],
   "source": [
    "# Now it is time to delete 'apple' word from the list. It looks weird there.\n",
    "A_list = [2, 4, 6, 8, 10, 'apple']\n",
    "A_list.remove('apple')"
   ]
  },
  {
   "cell_type": "code",
   "execution_count": 14,
   "id": "c56678ee",
   "metadata": {},
   "outputs": [
    {
     "name": "stdout",
     "output_type": "stream",
     "text": [
      "[2, 4, 6, 8, 10]\n"
     ]
    }
   ],
   "source": [
    "print(A_list)"
   ]
  },
  {
   "cell_type": "code",
   "execution_count": 15,
   "id": "50f0f40b",
   "metadata": {},
   "outputs": [
    {
     "name": "stdout",
     "output_type": "stream",
     "text": [
      "6\n"
     ]
    }
   ],
   "source": [
    "# Can you print 6 only from the list? If yes, please show in the codes.\n",
    "print(A_list[2])"
   ]
  },
  {
   "cell_type": "code",
   "execution_count": null,
   "id": "5ee2ccff",
   "metadata": {},
   "outputs": [],
   "source": []
  }
 ],
 "metadata": {
  "kernelspec": {
   "display_name": "Python 3 (ipykernel)",
   "language": "python",
   "name": "python3"
  },
  "language_info": {
   "codemirror_mode": {
    "name": "ipython",
    "version": 3
   },
   "file_extension": ".py",
   "mimetype": "text/x-python",
   "name": "python",
   "nbconvert_exporter": "python",
   "pygments_lexer": "ipython3",
   "version": "3.9.13"
  }
 },
 "nbformat": 4,
 "nbformat_minor": 5
}
