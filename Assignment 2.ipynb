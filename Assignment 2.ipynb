{
 "cells": [
  {
   "cell_type": "code",
   "execution_count": 1,
   "id": "7ef2637b",
   "metadata": {},
   "outputs": [],
   "source": [
    "# Can your print the letters of Agriculture by using for loops. Your output will look like this:\n",
    "# A\n",
    "# g\n",
    "# r\n",
    "# i\n",
    "# c\n",
    "# u\n",
    "# l\n",
    "# t\n",
    "# u\n",
    "# r\n",
    "# e\n",
    "Ag = ('Agriculture')\n"
   ]
  },
  {
   "cell_type": "code",
   "execution_count": 2,
   "id": "e00efdac",
   "metadata": {},
   "outputs": [
    {
     "name": "stdout",
     "output_type": "stream",
     "text": [
      "A\n",
      "g\n",
      "r\n",
      "i\n",
      "c\n",
      "u\n",
      "l\n",
      "t\n",
      "u\n",
      "r\n",
      "e\n"
     ]
    }
   ],
   "source": [
    "for i in Ag:\n",
    "    print(i)"
   ]
  },
  {
   "cell_type": "code",
   "execution_count": 4,
   "id": "e06c3c26",
   "metadata": {},
   "outputs": [
    {
     "name": "stdout",
     "output_type": "stream",
     "text": [
      "1225\n"
     ]
    }
   ],
   "source": [
    "# Find the sum of numbers from 1 to 50(including) by using for loops.\n",
    "Sum_N = 0\n",
    "for a in range(1, 50):\n",
    "    Sum_N += a       \n",
    "print(Sum_N)"
   ]
  },
  {
   "cell_type": "code",
   "execution_count": 5,
   "id": "29e661e1",
   "metadata": {},
   "outputs": [
    {
     "name": "stdout",
     "output_type": "stream",
     "text": [
      "600\n"
     ]
    }
   ],
   "source": [
    "# Now let's find sum of even and odd numbers from 1 to 50 (including). Are the results same?\n",
    "# Sum of even  numbers\n",
    "Sum_en = 0\n",
    "for i in range(1, 50):\n",
    "    if i % 2 == 0:\n",
    "        Sum_en += i\n",
    "print(Sum_en)"
   ]
  },
  {
   "cell_type": "code",
   "execution_count": 7,
   "id": "8671682d",
   "metadata": {},
   "outputs": [
    {
     "name": "stdout",
     "output_type": "stream",
     "text": [
      "625\n"
     ]
    }
   ],
   "source": [
    "# Sum of odd numbers\n",
    "Sum_od = 0\n",
    "for j in range(1, 50):\n",
    "    if j % 2 == 1:\n",
    "       Sum_od += j\n",
    "print(Sum_od)"
   ]
  },
  {
   "cell_type": "code",
   "execution_count": null,
   "id": "8dc99479",
   "metadata": {},
   "outputs": [],
   "source": []
  }
 ],
 "metadata": {
  "kernelspec": {
   "display_name": "Python 3 (ipykernel)",
   "language": "python",
   "name": "python3"
  },
  "language_info": {
   "codemirror_mode": {
    "name": "ipython",
    "version": 3
   },
   "file_extension": ".py",
   "mimetype": "text/x-python",
   "name": "python",
   "nbconvert_exporter": "python",
   "pygments_lexer": "ipython3",
   "version": "3.9.13"
  }
 },
 "nbformat": 4,
 "nbformat_minor": 5
}
