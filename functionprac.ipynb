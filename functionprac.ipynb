{
 "cells": [
  {
   "cell_type": "code",
   "execution_count": 1,
   "id": "3be6597c",
   "metadata": {},
   "outputs": [
    {
     "name": "stdout",
     "output_type": "stream",
     "text": [
      "hello world\n"
     ]
    }
   ],
   "source": [
    "print(\"hello world\")"
   ]
  },
  {
   "cell_type": "code",
   "execution_count": 5,
   "id": "9297a538",
   "metadata": {},
   "outputs": [],
   "source": [
    "def add100(x):\n",
    "    print(100 + x)\n",
    "    print(50 + x)"
   ]
  },
  {
   "cell_type": "code",
   "execution_count": 3,
   "id": "9544026b",
   "metadata": {},
   "outputs": [
    {
     "name": "stdout",
     "output_type": "stream",
     "text": [
      "200\n"
     ]
    }
   ],
   "source": [
    "add100(100)"
   ]
  },
  {
   "cell_type": "code",
   "execution_count": 4,
   "id": "ec82787a",
   "metadata": {},
   "outputs": [
    {
     "name": "stdout",
     "output_type": "stream",
     "text": [
      "180.5\n"
     ]
    }
   ],
   "source": [
    "add100(80.5)"
   ]
  },
  {
   "cell_type": "code",
   "execution_count": 6,
   "id": "a213fdf7",
   "metadata": {},
   "outputs": [
    {
     "name": "stdout",
     "output_type": "stream",
     "text": [
      "400\n",
      "350\n"
     ]
    }
   ],
   "source": [
    "add100(300)"
   ]
  },
  {
   "cell_type": "code",
   "execution_count": 7,
   "id": "23f763fa",
   "metadata": {},
   "outputs": [
    {
     "ename": "SyntaxError",
     "evalue": "invalid syntax (3942794713.py, line 1)",
     "output_type": "error",
     "traceback": [
      "\u001b[1;36m  File \u001b[1;32m\"C:\\Users\\ismai\\AppData\\Local\\Temp\\ipykernel_19908\\3942794713.py\"\u001b[1;36m, line \u001b[1;32m1\u001b[0m\n\u001b[1;33m    def square(5):\u001b[0m\n\u001b[1;37m               ^\u001b[0m\n\u001b[1;31mSyntaxError\u001b[0m\u001b[1;31m:\u001b[0m invalid syntax\n"
     ]
    }
   ],
   "source": [
    "def square(x):\n",
    "    return x * x\n",
    "    "
   ]
  },
  {
   "cell_type": "code",
   "execution_count": 8,
   "id": "57bf2066",
   "metadata": {},
   "outputs": [],
   "source": [
    "def square(x):\n",
    "    return x * x\n",
    "    "
   ]
  },
  {
   "cell_type": "code",
   "execution_count": 9,
   "id": "d1b65a67",
   "metadata": {},
   "outputs": [],
   "source": [
    "result = square(10)"
   ]
  },
  {
   "cell_type": "code",
   "execution_count": 10,
   "id": "22aa2036",
   "metadata": {},
   "outputs": [
    {
     "name": "stdout",
     "output_type": "stream",
     "text": [
      "100\n"
     ]
    }
   ],
   "source": [
    "print(result)"
   ]
  },
  {
   "cell_type": "code",
   "execution_count": 11,
   "id": "9b5b0be8",
   "metadata": {},
   "outputs": [],
   "source": [
    "another = square(result)"
   ]
  },
  {
   "cell_type": "code",
   "execution_count": 12,
   "id": "dc3a318d",
   "metadata": {},
   "outputs": [
    {
     "name": "stdout",
     "output_type": "stream",
     "text": [
      "10000\n"
     ]
    }
   ],
   "source": [
    "print(another)"
   ]
  },
  {
   "cell_type": "code",
   "execution_count": 13,
   "id": "5ce1c100",
   "metadata": {},
   "outputs": [],
   "source": [
    "def sumofsquares(x,y):\n",
    "    square1 = x * x\n",
    "    square2 = y * y\n",
    "    return square1 + square2"
   ]
  },
  {
   "cell_type": "code",
   "execution_count": 14,
   "id": "b7ac1568",
   "metadata": {},
   "outputs": [],
   "source": [
    "result = sumofsquares(3,5)"
   ]
  },
  {
   "cell_type": "code",
   "execution_count": 15,
   "id": "349b2a42",
   "metadata": {},
   "outputs": [
    {
     "name": "stdout",
     "output_type": "stream",
     "text": [
      "34\n"
     ]
    }
   ],
   "source": [
    "print(result)"
   ]
  },
  {
   "cell_type": "code",
   "execution_count": 16,
   "id": "fd2c3225",
   "metadata": {},
   "outputs": [],
   "source": [
    "def is_it_shining():\n",
    "    shining = input(\"is it shining today?\")\n",
    "    return shining"
   ]
  },
  {
   "cell_type": "code",
   "execution_count": 17,
   "id": "1da1185e",
   "metadata": {},
   "outputs": [
    {
     "name": "stdout",
     "output_type": "stream",
     "text": [
      "is it shining today?no\n"
     ]
    }
   ],
   "source": [
    "Sunday_shine = is_it_shining()"
   ]
  },
  {
   "cell_type": "code",
   "execution_count": 18,
   "id": "f8ea2c66",
   "metadata": {},
   "outputs": [
    {
     "name": "stdout",
     "output_type": "stream",
     "text": [
      "no\n"
     ]
    }
   ],
   "source": [
    "print(Sunday_shine)"
   ]
  },
  {
   "cell_type": "code",
   "execution_count": 20,
   "id": "efc03dd3",
   "metadata": {},
   "outputs": [
    {
     "name": "stdout",
     "output_type": "stream",
     "text": [
      "is it shining today?yes\n"
     ]
    }
   ],
   "source": [
    "Tuesday_shine = is_it_shining()\n"
   ]
  },
  {
   "cell_type": "code",
   "execution_count": 21,
   "id": "48f9fa74",
   "metadata": {},
   "outputs": [
    {
     "name": "stdout",
     "output_type": "stream",
     "text": [
      "yes\n"
     ]
    }
   ],
   "source": [
    "print(Tuesday_shine)"
   ]
  },
  {
   "cell_type": "code",
   "execution_count": 22,
   "id": "0f84e584",
   "metadata": {},
   "outputs": [],
   "source": [
    "import math"
   ]
  },
  {
   "cell_type": "code",
   "execution_count": 23,
   "id": "5915b0d8",
   "metadata": {},
   "outputs": [],
   "source": [
    "result = math.sqrt(144)"
   ]
  },
  {
   "cell_type": "code",
   "execution_count": 24,
   "id": "885b05e9",
   "metadata": {},
   "outputs": [
    {
     "name": "stdout",
     "output_type": "stream",
     "text": [
      "12.0\n"
     ]
    }
   ],
   "source": [
    "print(result)"
   ]
  },
  {
   "cell_type": "code",
   "execution_count": 27,
   "id": "4d24acf3",
   "metadata": {},
   "outputs": [
    {
     "ename": "NameError",
     "evalue": "name 'calendar' is not defined",
     "output_type": "error",
     "traceback": [
      "\u001b[1;31m---------------------------------------------------------------------------\u001b[0m",
      "\u001b[1;31mNameError\u001b[0m                                 Traceback (most recent call last)",
      "\u001b[1;32m~\\AppData\\Local\\Temp\\ipykernel_19908\\2092166600.py\u001b[0m in \u001b[0;36m<module>\u001b[1;34m\u001b[0m\n\u001b[1;32m----> 1\u001b[1;33m \u001b[0mcal\u001b[0m \u001b[1;33m=\u001b[0m \u001b[0mcalendar\u001b[0m\u001b[1;33m.\u001b[0m\u001b[0mmonth\u001b[0m\u001b[1;33m(\u001b[0m\u001b[1;36m2020\u001b[0m\u001b[1;33m,\u001b[0m \u001b[1;36m7\u001b[0m\u001b[1;33m)\u001b[0m\u001b[1;33m\u001b[0m\u001b[1;33m\u001b[0m\u001b[0m\n\u001b[0m",
      "\u001b[1;31mNameError\u001b[0m: name 'calendar' is not defined"
     ]
    }
   ],
   "source": [
    "cal = calendar.month(2020, 7)\n"
   ]
  },
  {
   "cell_type": "code",
   "execution_count": 28,
   "id": "e2c3c321",
   "metadata": {},
   "outputs": [],
   "source": [
    "import calendar"
   ]
  },
  {
   "cell_type": "code",
   "execution_count": 29,
   "id": "b1f16c4c",
   "metadata": {},
   "outputs": [],
   "source": [
    "cal = calendar.month(2020, 7)"
   ]
  },
  {
   "cell_type": "code",
   "execution_count": 30,
   "id": "10c89418",
   "metadata": {},
   "outputs": [
    {
     "name": "stdout",
     "output_type": "stream",
     "text": [
      "     July 2020\n",
      "Mo Tu We Th Fr Sa Su\n",
      "       1  2  3  4  5\n",
      " 6  7  8  9 10 11 12\n",
      "13 14 15 16 17 18 19\n",
      "20 21 22 23 24 25 26\n",
      "27 28 29 30 31\n",
      "\n"
     ]
    }
   ],
   "source": [
    "print(cal)"
   ]
  },
  {
   "cell_type": "code",
   "execution_count": 31,
   "id": "8ae3c4b1",
   "metadata": {},
   "outputs": [],
   "source": [
    "import math"
   ]
  },
  {
   "cell_type": "code",
   "execution_count": 32,
   "id": "738b574e",
   "metadata": {},
   "outputs": [],
   "source": [
    "import random"
   ]
  },
  {
   "cell_type": "code",
   "execution_count": 36,
   "id": "7769119c",
   "metadata": {},
   "outputs": [],
   "source": [
    "number = random.randint(1, 50)"
   ]
  },
  {
   "cell_type": "code",
   "execution_count": 37,
   "id": "1388969a",
   "metadata": {},
   "outputs": [
    {
     "name": "stdout",
     "output_type": "stream",
     "text": [
      "12\n"
     ]
    }
   ],
   "source": [
    "print(number)"
   ]
  },
  {
   "cell_type": "code",
   "execution_count": 38,
   "id": "c8cec3aa",
   "metadata": {},
   "outputs": [
    {
     "name": "stdout",
     "output_type": "stream",
     "text": [
      "12\n"
     ]
    }
   ],
   "source": [
    "print(number)"
   ]
  },
  {
   "cell_type": "code",
   "execution_count": null,
   "id": "b441c9a7",
   "metadata": {},
   "outputs": [],
   "source": []
  },
  {
   "cell_type": "code",
   "execution_count": 42,
   "id": "d40d671e",
   "metadata": {},
   "outputs": [],
   "source": [
    "movies = [\"Oluwanile\", \"stuber\", \"patapata\", \"ileri\", \"aarin\", \"adeolu\", \"batimo\", \"kule\"]"
   ]
  },
  {
   "cell_type": "code",
   "execution_count": 43,
   "id": "ca3346c7",
   "metadata": {},
   "outputs": [],
   "source": [
    "watch = random.choice(movies)"
   ]
  },
  {
   "cell_type": "code",
   "execution_count": 44,
   "id": "8f80448c",
   "metadata": {},
   "outputs": [
    {
     "name": "stdout",
     "output_type": "stream",
     "text": [
      "aarin\n"
     ]
    }
   ],
   "source": [
    "print(watch)"
   ]
  },
  {
   "cell_type": "code",
   "execution_count": 45,
   "id": "7bcb588b",
   "metadata": {},
   "outputs": [],
   "source": [
    "deck = [\"Oluwanile\", \"stuber\", \"patapata\", \"ileri\", \"aarin\", \"adeolu\", \"batimo\", \"kule\"]"
   ]
  },
  {
   "cell_type": "code",
   "execution_count": 46,
   "id": "a8d3835a",
   "metadata": {},
   "outputs": [],
   "source": [
    "random.shuffle(deck)"
   ]
  },
  {
   "cell_type": "code",
   "execution_count": 47,
   "id": "61639d7a",
   "metadata": {},
   "outputs": [
    {
     "name": "stdout",
     "output_type": "stream",
     "text": [
      "['batimo', 'kule', 'ileri', 'Oluwanile', 'aarin', 'stuber', 'patapata', 'adeolu']\n"
     ]
    }
   ],
   "source": [
    "print(deck)"
   ]
  },
  {
   "cell_type": "code",
   "execution_count": 48,
   "id": "8a4da3cf",
   "metadata": {},
   "outputs": [
    {
     "name": "stdout",
     "output_type": "stream",
     "text": [
      "5\n"
     ]
    }
   ],
   "source": [
    "n = 5\n",
    "print(n)"
   ]
  },
  {
   "cell_type": "code",
   "execution_count": 49,
   "id": "4f389f1f",
   "metadata": {},
   "outputs": [],
   "source": [
    "listA =[2, 4, 8, 9]"
   ]
  },
  {
   "cell_type": "code",
   "execution_count": 50,
   "id": "49201f41",
   "metadata": {},
   "outputs": [
    {
     "data": {
      "text/plain": [
       "list"
      ]
     },
     "execution_count": 50,
     "metadata": {},
     "output_type": "execute_result"
    }
   ],
   "source": [
    "type(listA)"
   ]
  },
  {
   "cell_type": "code",
   "execution_count": 52,
   "id": "ab3c3f7c",
   "metadata": {},
   "outputs": [
    {
     "name": "stdout",
     "output_type": "stream",
     "text": [
      "8\n"
     ]
    }
   ],
   "source": [
    "print(listA[2])"
   ]
  },
  {
   "cell_type": "code",
   "execution_count": 53,
   "id": "7ea094ec",
   "metadata": {},
   "outputs": [],
   "source": [
    "third_item = listA[2]"
   ]
  },
  {
   "cell_type": "code",
   "execution_count": 54,
   "id": "0dffb866",
   "metadata": {},
   "outputs": [
    {
     "name": "stdout",
     "output_type": "stream",
     "text": [
      "8\n"
     ]
    }
   ],
   "source": [
    "print(listA[2])"
   ]
  },
  {
   "cell_type": "code",
   "execution_count": 55,
   "id": "469b02bc",
   "metadata": {},
   "outputs": [],
   "source": [
    "listA[2] = 200"
   ]
  },
  {
   "cell_type": "code",
   "execution_count": 56,
   "id": "7b161cbf",
   "metadata": {},
   "outputs": [
    {
     "name": "stdout",
     "output_type": "stream",
     "text": [
      "200\n"
     ]
    }
   ],
   "source": [
    "print(listA[2])"
   ]
  },
  {
   "cell_type": "code",
   "execution_count": 57,
   "id": "383c2792",
   "metadata": {},
   "outputs": [
    {
     "name": "stdout",
     "output_type": "stream",
     "text": [
      "[2, 4, 200, 9]\n"
     ]
    }
   ],
   "source": [
    "print(listA)"
   ]
  },
  {
   "cell_type": "code",
   "execution_count": 62,
   "id": "fc323401",
   "metadata": {},
   "outputs": [
    {
     "name": "stdout",
     "output_type": "stream",
     "text": [
      "is it raining? (yes/no)yes\n",
      "you need a raincoat!\n"
     ]
    }
   ],
   "source": [
    "raining = input(\"is it raining? (yes/no)\")\n",
    "if raining == \"yes\":\n",
    "    print(\"you need a raincoat!\")"
   ]
  },
  {
   "cell_type": "code",
   "execution_count": 61,
   "id": "73985691",
   "metadata": {},
   "outputs": [
    {
     "name": "stdout",
     "output_type": "stream",
     "text": [
      "no\n"
     ]
    }
   ],
   "source": [
    "print(raining)"
   ]
  },
  {
   "cell_type": "code",
   "execution_count": null,
   "id": "593de288",
   "metadata": {},
   "outputs": [],
   "source": []
  }
 ],
 "metadata": {
  "kernelspec": {
   "display_name": "Python 3 (ipykernel)",
   "language": "python",
   "name": "python3"
  },
  "language_info": {
   "codemirror_mode": {
    "name": "ipython",
    "version": 3
   },
   "file_extension": ".py",
   "mimetype": "text/x-python",
   "name": "python",
   "nbconvert_exporter": "python",
   "pygments_lexer": "ipython3",
   "version": "3.9.13"
  }
 },
 "nbformat": 4,
 "nbformat_minor": 5
}
