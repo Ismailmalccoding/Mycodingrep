{
 "cells": [
  {
   "cell_type": "code",
   "execution_count": 5,
   "id": "23ba7e15",
   "metadata": {},
   "outputs": [
    {
     "name": "stdout",
     "output_type": "stream",
     "text": [
      "choose an integer between -23 and 70 and enter it here:-30\n",
      "the integer you chose is less than -20.\n"
     ]
    }
   ],
   "source": [
    "n = input(\"choose an integer between -23 and 70 and enter it here:\")\n",
    "n = int(n)\n",
    "if n < -20: \n",
    "    print(\"the integer you chose is less than -20.\")"
   ]
  },
  {
   "cell_type": "code",
   "execution_count": 6,
   "id": "d679c421",
   "metadata": {},
   "outputs": [],
   "source": [
    "def minimum(x, y):\n",
    "    if x < y:\n",
    "        return x\n",
    "    else:\n",
    "        return y"
   ]
  },
  {
   "cell_type": "code",
   "execution_count": 7,
   "id": "3cb8bb51",
   "metadata": {},
   "outputs": [
    {
     "name": "stdout",
     "output_type": "stream",
     "text": [
      "6\n"
     ]
    }
   ],
   "source": [
    "# test out minimum on 6 and 9\n",
    "\n",
    "result = minimum(6, 9)\n",
    "print(result)"
   ]
  },
  {
   "cell_type": "code",
   "execution_count": 8,
   "id": "7a307c9c",
   "metadata": {},
   "outputs": [
    {
     "name": "stdout",
     "output_type": "stream",
     "text": [
      "-100.5\n"
     ]
    }
   ],
   "source": [
    "# test out minimum on -18 and -100.5\n",
    "\n",
    "result = minimum(-18, -100.5)\n",
    "print(result)"
   ]
  },
  {
   "cell_type": "code",
   "execution_count": 10,
   "id": "c617373e",
   "metadata": {},
   "outputs": [
    {
     "name": "stdout",
     "output_type": "stream",
     "text": [
      "is it raining? (yes/no)yes\n",
      "do you have an unbrella? (yes/no)no\n",
      "wear rain-coat\n"
     ]
    }
   ],
   "source": [
    "# IF - ELIF Statement\n",
    "\n",
    "raining = input(\"is it raining? (yes/no)\")\n",
    "umbrella = input(\"do you have an unbrella? (yes/no)\")\n",
    "if raining == \"yes\" and umbrella == \"yes\":\n",
    "    print(\"dont forget your umbrella when going out!\")\n",
    "elif raining == \"yes\" and umbrella == \"no\":\n",
    "        print(\"wear rain-coat\")\n",
    "        "
   ]
  },
  {
   "cell_type": "code",
   "execution_count": 11,
   "id": "ec02a4ee",
   "metadata": {},
   "outputs": [
    {
     "name": "stdout",
     "output_type": "stream",
     "text": [
      "enter a number here1.4\n",
      "the number is less than 3.\n"
     ]
    }
   ],
   "source": [
    "x = input(\"enter a number here\")\n",
    "x = float(x)\n",
    "if x < 3:\n",
    "    print(\"the number is less than 3.\")\n",
    "elif x < 5:\n",
    "    print(\"the number is less than 5.\")\n",
    "elif x < 7:\n",
    "    print(\"the number is less than 7.\")"
   ]
  },
  {
   "cell_type": "code",
   "execution_count": null,
   "id": "706768f7",
   "metadata": {},
   "outputs": [],
   "source": []
  }
 ],
 "metadata": {
  "kernelspec": {
   "display_name": "Python 3 (ipykernel)",
   "language": "python",
   "name": "python3"
  },
  "language_info": {
   "codemirror_mode": {
    "name": "ipython",
    "version": 3
   },
   "file_extension": ".py",
   "mimetype": "text/x-python",
   "name": "python",
   "nbconvert_exporter": "python",
   "pygments_lexer": "ipython3",
   "version": "3.9.13"
  }
 },
 "nbformat": 4,
 "nbformat_minor": 5
}
